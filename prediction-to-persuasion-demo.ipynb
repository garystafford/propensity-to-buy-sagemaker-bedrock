{
 "cells": [
  {
   "cell_type": "markdown",
   "id": "1403a534-0733-4528-bc99-ac1c57a12c7b",
   "metadata": {
    "editable": true,
    "slideshow": {
     "slide_type": ""
    },
    "tags": []
   },
   "source": [
    "# From Prediction to Persuasion\n",
    "\n",
    "## Precision-targeted Marketing with Amazon SageMaker AI Canvas and Amazon Nova Generative Foundation Models"
   ]
  },
  {
   "cell_type": "markdown",
   "id": "248475d5-e1ec-4d12-8031-7fc8a05b385d",
   "metadata": {},
   "source": [
    "__Description:__ This script is used to invoke the deployed Amazon SageMaker endpoint. The endpoint is used to predict the propensity of a customer to buy electronic products during the Christmas season - True or False. If True, a targeted marketing piece is generated based on the same inference data using Amazon Nova Pro.\n",
    "\n",
    "__Inputs (features):__ [\"age\", \"gender\", \"race\", \"married\", \"salary\", \"tech_savvy_score\", \"price_sensitivity_score\", \"last_item_purchased\", \"previous_item_purchased\"]\n",
    "\n",
    "__Output (prediction):__ [\"buy\"]\n",
    "\n",
    "__Author:__ Gary A. Stafford\n",
    "\n",
    "__Date:__ 2024-12-06"
   ]
  },
  {
   "cell_type": "markdown",
   "id": "30d1e103-d99b-4a3c-9bf7-76d45ae70764",
   "metadata": {},
   "source": [
    "## Amazon SageMaker Real-time Inference Endpoint\n",
    "\n",
    "Invoke the Canvas model for a buy prediction."
   ]
  },
  {
   "cell_type": "code",
   "execution_count": null,
   "id": "5a3fe9d2-f2f3-4f3a-8d62-a896cb358bdc",
   "metadata": {},
   "outputs": [],
   "source": [
    "! pip install boto3 botocore numpy pandas -Uq"
   ]
  },
  {
   "cell_type": "code",
   "execution_count": null,
   "id": "46b088c3-0216-4adf-8a58-d1665676551c",
   "metadata": {
    "editable": true,
    "slideshow": {
     "slide_type": ""
    },
    "tags": []
   },
   "outputs": [],
   "source": [
    "import csv\n",
    "from dataclasses import dataclass\n",
    "import json\n",
    "from typing import List, Tuple\n",
    "\n",
    "import boto3\n",
    "from botocore.exceptions import ClientError\n",
    "from IPython.display import display, HTML\n",
    "import numpy as np\n",
    "import pandas as pd\n",
    "\n",
    "# Create boto3 clients\n",
    "sm_client = boto3.client(\"sagemaker\")\n",
    "sm_runtime_client = boto3.client(\"runtime.sagemaker\")"
   ]
  },
  {
   "cell_type": "code",
   "execution_count": null,
   "id": "a7c63232-715e-438a-9b6a-4c73517c3b2a",
   "metadata": {},
   "outputs": [],
   "source": [
    "# List all in-service endpoints\n",
    "response = sm_client.list_endpoints(SortBy=\"Name\")\n",
    "for endpoint in response[\"Endpoints\"]:\n",
    "    if endpoint[\"EndpointStatus\"] == \"InService\":\n",
    "        print(endpoint[\"EndpointName\"])"
   ]
  },
  {
   "cell_type": "code",
   "execution_count": null,
   "id": "a64ac1e9-ef77-43bc-b63c-c9331ea3b571",
   "metadata": {},
   "outputs": [],
   "source": [
    "# Update to your model's endpoint name\n",
    "ENDPOINT_NAME = \"canvas-ptb-xmas-electronics-v8b-model\""
   ]
  },
  {
   "cell_type": "code",
   "execution_count": null,
   "id": "ee5acde6-3ccd-4ea7-841f-d6a07365daf6",
   "metadata": {
    "editable": true,
    "slideshow": {
     "slide_type": ""
    },
    "tags": []
   },
   "outputs": [],
   "source": [
    "def invoke_endpoint(values) -> str:\n",
    "    \"\"\"\n",
    "    Invokes an endpoint with the given values and returns the response.\n",
    "\n",
    "    Args:\n",
    "        values (list): A list of values to be sent to the endpoint.\n",
    "\n",
    "    Returns:\n",
    "        str: The response from the endpoint.\n",
    "\n",
    "    Raises:\n",
    "        botocore.exceptions.ClientError: If the request to the endpoint fails.\n",
    "    \"\"\"\n",
    "\n",
    "    body = (\n",
    "        pd.DataFrame(\n",
    "            [values],\n",
    "        )\n",
    "        .to_csv(header=False, index=False)\n",
    "        .encode(\"utf-8\")\n",
    "    )\n",
    "\n",
    "    try:\n",
    "        response = sm_runtime_client.invoke_endpoint(\n",
    "            EndpointName=ENDPOINT_NAME,\n",
    "            ContentType=\"text/csv\",\n",
    "            Body=body,\n",
    "            Accept=\"application/json\",\n",
    "        )\n",
    "        return response\n",
    "    except ClientError as error:\n",
    "        message = error.response[\"Error\"][\"Message\"]\n",
    "        print(\"A client error occurred: \" + format(message))\n",
    "        return None"
   ]
  },
  {
   "cell_type": "code",
   "execution_count": null,
   "id": "fbeb1fcb-1c9d-4def-82d6-e7123173c771",
   "metadata": {},
   "outputs": [],
   "source": [
    "# Sample customer data\n",
    "target_customers = [\n",
    "    {\n",
    "        \"customer_id\": \"d1b7c683-dc24-4345-9a7c-ef981c7d8020\",\n",
    "        \"first_name\": \"Bruno\",\n",
    "        \"phone\": \"111-222-3333\",\n",
    "        \"email\": \"bruno7867@example.com\",\n",
    "        \"age\": 21,\n",
    "        \"gender\": \"Male\",\n",
    "        \"race\": \"White\",\n",
    "        \"married\": False,\n",
    "        \"salary\": 108_000,\n",
    "        \"tech_savvy_score\": 0.78,\n",
    "        \"price_sensitivity_score\": 0.34,\n",
    "        \"previous_item_purchased\": \"Game console and accessories\",\n",
    "        \"last_item_purchased\": \"Computer, monitor, and accessories\",\n",
    "    },\n",
    "    {\n",
    "        \"customer_id\": \"22444d4d-f013-475d-be49-b29b6a828623\",\n",
    "        \"first_name\": \"Mira\",\n",
    "        \"phone\": \"111-222-3333\",\n",
    "        \"email\": \"mira3994@example.com\",\n",
    "        \"age\": 62,\n",
    "        \"gender\": \"Female\",\n",
    "        \"race\": \"Asian\",\n",
    "        \"married\": True,\n",
    "        \"salary\": 36000,\n",
    "        \"tech_savvy_score\": 0.15,\n",
    "        \"price_sensitivity_score\": -1.12,\n",
    "        \"previous_item_purchased\": \"Smartphone and accessories\",\n",
    "        \"last_item_purchased\": \"Television and accessories\",\n",
    "    },\n",
    "    {\n",
    "        \"customer_id\": \"1827e17f-0415-4c4b-9866-17f5fd1ffc97\",\n",
    "        \"first_name\": \"Eduardo\",\n",
    "        \"phone\": \"111-222-3333\",\n",
    "        \"email\": \"eduardo3730@example.com\",\n",
    "        \"age\": 53,\n",
    "        \"gender\": \"Male\",\n",
    "        \"race\": \"Hispanic\",\n",
    "        \"married\": True,\n",
    "        \"salary\": 118000,\n",
    "        \"tech_savvy_score\": 1.99,\n",
    "        \"price_sensitivity_score\": -2.04,\n",
    "        \"previous_item_purchased\": \"Smartphone and accessories\",\n",
    "        \"last_item_purchased\": \"Computer, monitor, and accessories\",\n",
    "    },\n",
    "    {\n",
    "        \"customer_id\": \"40837f25-5959-466b-9b87-6ffa7e0f3169\",\n",
    "        \"first_name\": \"Mary\",\n",
    "        \"phone\": \"111-222-3333\",\n",
    "        \"email\": \"mary9898@example.com\",\n",
    "        \"age\": 41,\n",
    "        \"gender\": \"Female\",\n",
    "        \"race\": \"White\",\n",
    "        \"married\": True,\n",
    "        \"salary\": 92000,\n",
    "        \"tech_savvy_score\": 2.45,\n",
    "        \"price_sensitivity_score\": -1.48,\n",
    "        \"previous_item_purchased\": \"Television and accessories\",\n",
    "        \"last_item_purchased\": \"Television and accessories\",\n",
    "    },\n",
    "    {\n",
    "        \"customer_id\": \"88107af8-d521-44e8-8d69-e5c46aa054fa\",\n",
    "        \"first_name\": \"Akito\",\n",
    "        \"phone\": \"111-222-3333\",\n",
    "        \"email\": \"akito9458@example.com\",\n",
    "        \"age\": 49,\n",
    "        \"gender\": \"Male\",\n",
    "        \"race\": \"Asian\",\n",
    "        \"married\": False,\n",
    "        \"salary\": 125000,\n",
    "        \"tech_savvy_score\": 0.11,\n",
    "        \"price_sensitivity_score\": 0.6,\n",
    "        \"previous_item_purchased\": \"Computer, monitor, and accessories\",\n",
    "        \"last_item_purchased\": \"Television and accessories\",\n",
    "    },\n",
    "]"
   ]
  },
  {
   "cell_type": "code",
   "execution_count": null,
   "id": "fd5fff94-9d9c-4c89-ab1a-751de2029f28",
   "metadata": {},
   "outputs": [],
   "source": [
    "# Single prediction\n",
    "target_customer = target_customers[0]\n",
    "\n",
    "inference_values = [\n",
    "    target_customer[\"age\"],\n",
    "    target_customer[\"gender\"],\n",
    "    target_customer[\"race\"],\n",
    "    target_customer[\"married\"],\n",
    "    target_customer[\"salary\"],\n",
    "    target_customer[\"tech_savvy_score\"],\n",
    "    target_customer[\"price_sensitivity_score\"],\n",
    "    target_customer[\"last_item_purchased\"],\n",
    "    target_customer[\"previous_item_purchased\"],\n",
    "]\n",
    "\n",
    "response = invoke_endpoint(inference_values)\n",
    "body_json = json.loads(response[\"Body\"].read().decode(\"utf-8\"))\n",
    "print(json.dumps(body_json, indent=4))\n",
    "\n",
    "predicted_label = body_json[\"predictions\"][0][\"predicted_label\"]\n",
    "print(f\"Prediction: {predicted_label}\")"
   ]
  },
  {
   "cell_type": "code",
   "execution_count": null,
   "id": "e2bf29c0-02f1-407d-97c1-d2de11d69c4d",
   "metadata": {
    "editable": true,
    "slideshow": {
     "slide_type": ""
    },
    "tags": []
   },
   "outputs": [],
   "source": [
    "# Multiple predictions\n",
    "for target_customer in target_customers:\n",
    "    inference_values = [\n",
    "        target_customer[\"age\"],\n",
    "        target_customer[\"gender\"],\n",
    "        target_customer[\"race\"],\n",
    "        target_customer[\"married\"],\n",
    "        target_customer[\"salary\"],\n",
    "        target_customer[\"tech_savvy_score\"],\n",
    "        target_customer[\"price_sensitivity_score\"],\n",
    "        target_customer[\"last_item_purchased\"],\n",
    "        target_customer[\"previous_item_purchased\"],\n",
    "    ]\n",
    "\n",
    "    response = invoke_endpoint(inference_values)\n",
    "    body_json = json.loads(response[\"Body\"].read().decode(\"utf-8\"))\n",
    "\n",
    "    # classification model - prediction\n",
    "    predicted_label = body_json[\"predictions\"][0][\"predicted_label\"]\n",
    "    print(f\"{target_customer['first_name']}: {predicted_label}\")"
   ]
  },
  {
   "cell_type": "markdown",
   "id": "eef71a89-2957-4015-a4bf-9578b0804040",
   "metadata": {},
   "source": [
    "## Amazon Bedrock\n",
    "\n",
    "Invoke Amazon Nova Pro through Amazon Bedrock."
   ]
  },
  {
   "cell_type": "code",
   "execution_count": null,
   "id": "0e603c51-7bac-4822-a933-c68285a9badf",
   "metadata": {},
   "outputs": [],
   "source": [
    "bedrock_runtime_client = boto3.client(\"bedrock-runtime\")\n",
    "\n",
    "MODEL_ID = \"amazon.olympus-pro-v1:0\"\n",
    "\n",
    "product_offer = {\n",
    "    \"product\": \"Apple Watch Series 10\",\n",
    "    \"price\": \"starting at $329\",\n",
    "    \"cta_link\": \"https://bit.ly/4fVvy4V\",\n",
    "    \"category\": \"Smartphone and accessories\",\n",
    "}\n",
    "\n",
    "SYSTEM_PROMPT = (\n",
    "    \"You are an accomplished copywriter for a leading digital marketing agency.\"\n",
    ")\n",
    "\n",
    "PROMPT_TEMPLATE_EMAIL = f\"\"\"Below is information about a target customer in JSON format. \n",
    "They have a high propensity to buy electronics during the Christmas Holiday. \n",
    "Use the information to write a brief and compelling personalized email message advertising the new {product_offer['product']}, now on sale, {product_offer['price']}.\n",
    "\n",
    "{target_customer}\n",
    "\n",
    "Important:\n",
    "1. The customer's name is {target_customer['first_name']}\n",
    "2. The company's name is Acme Electronics\n",
    "3. The call-to-action is 'Shop Now' with the link {product_offer['cta_link']}\n",
    "4. Don't mention the customer's age, race, or gender\n",
    "5. Don't include any preamble or wrap the output in extra elements\n",
    "6. Use emojis where appropriate\n",
    "7. Output the message in well-formatted HTML, including <head>, <body>, CSS, <style>, <div>, and class elements\n",
    "8. Include the phrase 'If you wish to unsubscribe, please click Unsubscribe.' at the end of the email\n",
    "9. Include the phrase '© 2024 Acme Electronics. All rights reserved.' at the end of the email\n",
    "\"\"\"\n",
    "\n",
    "PROMPT_TEMPLATE_SMS = f\"\"\"Below is information about a target customer in JSON format. \n",
    "They have a high propensity to buy electronics during the Christmas Holiday. \n",
    "Use the information to write a brief and compelling personalized SMS text message advertising the new {product_offer['product']}, now on sale, {product_offer['price']}.\n",
    "\n",
    "{target_customer}\n",
    "\n",
    "Important:\n",
    "1. The customer's name is {target_customer['first_name']}\n",
    "2. The company's name is Acme Electronics\n",
    "3. The call-to-action is 'Shop Now' with the link {product_offer['cta_link']}\n",
    "4. Don't mention the customer's age, race, or gender\n",
    "5. Don't include any preamble or wrap the output in extra elements\n",
    "6. Use emojis where appropriate\n",
    "7. Output the message as text\n",
    "8. Include the phrase 'Reply STOP to opt out' at the end of the message\n",
    "\"\"\""
   ]
  },
  {
   "cell_type": "code",
   "execution_count": null,
   "id": "d857c701-b9c1-4bba-b647-3408774faa8e",
   "metadata": {},
   "outputs": [],
   "source": [
    "# Preview the final prompts\n",
    "print(f\"Email prompt:\\n{PROMPT_TEMPLATE_EMAIL}\")\n",
    "print(\"\\n---\\n\")\n",
    "print(f\"SMS prompt:\\n{PROMPT_TEMPLATE_SMS}\")"
   ]
  },
  {
   "cell_type": "code",
   "execution_count": null,
   "id": "7e3b7bf8-6e85-4c57-bbce-09aa647f3713",
   "metadata": {},
   "outputs": [],
   "source": [
    "if (\n",
    "    predicted_label\n",
    "    and target_customer[\"last_item_purchased\"]\n",
    "    != product_offer[\"category\"]  # optional filter criteria\n",
    "):\n",
    "    response = bedrock_runtime_client.converse(\n",
    "        modelId=MODEL_ID,\n",
    "        messages=[\n",
    "            {\n",
    "                \"role\": \"user\",\n",
    "                \"content\": [\n",
    "                    {\n",
    "                        \"text\": PROMPT_TEMPLATE_EMAIL,\n",
    "                    },\n",
    "                ],\n",
    "            },\n",
    "        ],\n",
    "        system=[\n",
    "            {\n",
    "                \"text\": SYSTEM_PROMPT,\n",
    "            },\n",
    "        ],\n",
    "        inferenceConfig={\n",
    "            \"maxTokens\": 1024,\n",
    "            \"temperature\": 0.4,\n",
    "            \"topP\": 0.9,\n",
    "            \"stopSequences\": [],\n",
    "        },\n",
    "    )"
   ]
  },
  {
   "cell_type": "code",
   "execution_count": null,
   "id": "16a662a1-5dba-4846-b47e-4c96e8a7d1fa",
   "metadata": {},
   "outputs": [],
   "source": [
    "print(json.dumps(response, indent=4))"
   ]
  },
  {
   "cell_type": "code",
   "execution_count": null,
   "id": "92257408-a731-46da-99b9-8532b59a2dd5",
   "metadata": {},
   "outputs": [],
   "source": [
    "message = response[\"output\"][\"message\"][\"content\"][0][\"text\"]"
   ]
  },
  {
   "cell_type": "code",
   "execution_count": null,
   "id": "70526dfa-3a12-479c-be13-a076a7bc5aae",
   "metadata": {
    "scrolled": true
   },
   "outputs": [],
   "source": [
    "print(message)"
   ]
  },
  {
   "cell_type": "code",
   "execution_count": null,
   "id": "bcaf4d86-b28b-449d-8a48-69cf0a6978ce",
   "metadata": {
    "editable": true,
    "slideshow": {
     "slide_type": ""
    },
    "tags": []
   },
   "outputs": [],
   "source": [
    "# For emails in HTML\n",
    "display(HTML(message))"
   ]
  },
  {
   "cell_type": "code",
   "execution_count": null,
   "id": "2acf8af5-c8ea-4698-8d80-f56494bc4e69",
   "metadata": {},
   "outputs": [],
   "source": []
  }
 ],
 "metadata": {
  "kernelspec": {
   "display_name": "Python 3 (ipykernel)",
   "language": "python",
   "name": "python3"
  },
  "language_info": {
   "codemirror_mode": {
    "name": "ipython",
    "version": 3
   },
   "file_extension": ".py",
   "mimetype": "text/x-python",
   "name": "python",
   "nbconvert_exporter": "python",
   "pygments_lexer": "ipython3",
   "version": "3.10.13"
  }
 },
 "nbformat": 4,
 "nbformat_minor": 5
}
